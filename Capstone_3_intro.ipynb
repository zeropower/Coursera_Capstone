{
 "cells": [
  {
   "cell_type": "markdown",
   "metadata": {},
   "source": [
    "## Capstone Project - The Battle of Neighborhoods\n",
    "### 1.Introduction\n",
    "#### In modern society, in addition to basic living needs, the public pays more attention to the quality of life.\n",
    "\n",
    "#### Factors affecting quality of life include diet, leisure and entertainment, and culture.\n",
    "\n",
    "#### In order to consider the advantages and disadvantages of quality of life when choosing a place of residence, through the analysis of Foursquare geographic data, we provide suggestions for choosing a place of residence."
   ]
  }
 ],
 "metadata": {
  "kernelspec": {
   "display_name": "Python 3",
   "language": "python",
   "name": "python3"
  },
  "language_info": {
   "codemirror_mode": {
    "name": "ipython",
    "version": 3
   },
   "file_extension": ".py",
   "mimetype": "text/x-python",
   "name": "python",
   "nbconvert_exporter": "python",
   "pygments_lexer": "ipython3",
   "version": "3.7.6"
  }
 },
 "nbformat": 4,
 "nbformat_minor": 4
}
